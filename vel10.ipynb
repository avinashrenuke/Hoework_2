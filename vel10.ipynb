{
 "cells": [
  {
   "cell_type": "code",
   "execution_count": 32,
   "metadata": {},
   "outputs": [],
   "source": [
    "# Avinash Renuke\n",
    "# Turbulence scales Assignment-2\n",
    "# Problem : Flow in a pipe"
   ]
  },
  {
   "cell_type": "code",
   "execution_count": 33,
   "metadata": {},
   "outputs": [],
   "source": [
    "%matplotlib inline"
   ]
  },
  {
   "cell_type": "code",
   "execution_count": 34,
   "metadata": {},
   "outputs": [],
   "source": [
    "from matplotlib import pyplot as plt\n",
    "import numpy as np"
   ]
  },
  {
   "cell_type": "code",
   "execution_count": 35,
   "metadata": {},
   "outputs": [],
   "source": [
    "# Input values"
   ]
  },
  {
   "cell_type": "code",
   "execution_count": 36,
   "metadata": {},
   "outputs": [],
   "source": [
    "density = 1.225 #kg/m3\n",
    "mu = 0.00018    #kg/m.s\n",
    "nu=mu/density   #m2/s\n",
    "U=10             #m/s\n",
    "L=0.1            #m"
   ]
  },
  {
   "cell_type": "code",
   "execution_count": 37,
   "metadata": {},
   "outputs": [],
   "source": [
    "# Equations \n",
    "\n",
    "# 1. Characteristics Reynolds number\n",
    "Re_c = U*L/nu\n",
    "\n",
    "# 2. Integral eddy length scale\n",
    "l = 0.07*L\n",
    "\n",
    "# 3. Turbulent Intensity\n",
    "\n",
    "#Percentage - pipe corelation\n",
    "\n",
    "I = 0.16*Re_c**(-1/8)\n",
    "\n",
    "\n",
    "# 4. Turbulent kinetic energy\n",
    "\n",
    "u_tur = (5/4)*U\n",
    "k = (3/2)*(u_tur*I)**2\n",
    "\n",
    "# 5. Energy dissipation\n",
    "\n",
    "e = (0.09*k**(3/2))/(l)\n",
    "\n",
    "# 6. specific dissipation rate\n",
    "\n",
    "omega = e/(0.09*k)\n",
    "\n",
    "# 7. Kolmogorov scales\n",
    "\n",
    "kolmogorov_length = ((nu**3)/e)**(1/4)\n",
    "kolmogorov_time = (nu/e)**(1/2)\n",
    "kolmogorov_velocity = (nu*e)**(1/4)\n",
    "kolmogorov_reynolds = (kolmogorov_length*kolmogorov_velocity)/nu\n",
    "\n",
    "# yplus values\n",
    "yplus1 = 1\n",
    "yplus100 = 100\n",
    "\n",
    "#friction coefficient using correlations for flow in pipe : Blasius equation for Re<10^5\n",
    "if Re_c<100000:\n",
    "    cf = 0.079*Re_c**(-1/4)\n",
    "else:\n",
    "    cf = 0.046*Re_c**(-0.2)\n",
    "    \n",
    "tau = 0.5*cf*density*U**2\n",
    "u_tau = (tau/density)**0.5\n",
    "\n",
    "#Viscous sublayer height\n",
    "y1 = (mu*yplus1)/(density*u_tau)\n",
    "y100 = (mu*yplus100)/(density*u_tau)\n",
    "\n",
    "\n",
    "# Recompute largest eddy \n",
    "\n",
    "l0_avg = 0.09*(k**(3/2))/e   # average integral eddies \n",
    "\n",
    "#Turbulent Reynolds number\n",
    "\n",
    "Re_t = ((k**(0.5))*l0_avg)/nu\n",
    "\n",
    "#Taylor length scale\n",
    "\n",
    "lk = (10*nu*k/e)**0.5\n",
    "\n",
    "#Turbulent viscosity\n",
    "\n",
    "mut = density*k/omega\n",
    "\n",
    "\n",
    "\n"
   ]
  },
  {
   "cell_type": "code",
   "execution_count": 38,
   "metadata": {},
   "outputs": [
    {
     "name": "stdout",
     "output_type": "stream",
     "text": [
      "Characteristics Reynolds number =  6805.555555555555\n",
      "Integral eddy length scale (m) =  0.007000000000000001\n",
      "Turbulence intensity =  0.053089915573928365\n",
      "Turbulent kinetic energy per unit mass (m^2/S^2) =  0.6605951099172285\n",
      "Energy dissipation rate per unit mass (m^2/S^3) =  6.90315303253722\n",
      "Specific dissipation rate per unit mass (1/S) =  116.11000325318072\n",
      "Kolmogorov length scale (m) =  0.0008233612749339762\n",
      "Kolmogorov time scale (s) =  0.004613648008886699\n",
      "Kolmogorov velocity scale(m/s) =  0.1784620918951852\n",
      "Kolmogorov Reynolds number =  1.0\n",
      "Fricion coefficient cf =  0.008697835613910174\n",
      "shear stress tau =  0.5327424313519982\n",
      "friction velocity u_tau (m/s)=  0.6594632519674684\n",
      "y1 =  0.00022281571425219104\n",
      "y100 =  0.022281571425219103\n",
      "Reynolds turbulent l_avg =  38.71946080706764\n",
      "Taylor length scale (m) =  0.011858018808653234\n",
      "Turbulent viscosity (kg/ms) =  0.0069695029452721755\n"
     ]
    }
   ],
   "source": [
    "print(\"Characteristics Reynolds number = \",Re_c)\n",
    "print(\"Integral eddy length scale (m) = \",l)\n",
    "print(\"Turbulence intensity = \",I)\n",
    "print(\"Turbulent kinetic energy per unit mass (m^2/S^2) = \",k)\n",
    "print(\"Energy dissipation rate per unit mass (m^2/S^3) = \",e)\n",
    "print(\"Specific dissipation rate per unit mass (1/S) = \",omega)\n",
    "\n",
    "print(\"Kolmogorov length scale (m) = \",kolmogorov_length)\n",
    "print(\"Kolmogorov time scale (s) = \",kolmogorov_time)\n",
    "print(\"Kolmogorov velocity scale(m/s) = \",kolmogorov_velocity)\n",
    "print(\"Kolmogorov Reynolds number = \",kolmogorov_reynolds)\n",
    "\n",
    "print(\"Fricion coefficient cf = \",cf)\n",
    "print(\"shear stress tau = \",tau)\n",
    "print(\"friction velocity u_tau (m/s)= \",u_tau)\n",
    "\n",
    "print(\"y1 = \",y1)\n",
    "print(\"y100 = \",y100)\n",
    "print(\"Reynolds turbulent l_avg = \",Re_t)\n",
    "print(\"Taylor length scale (m) = \",lk)\n",
    "print(\"Turbulent viscosity (kg/ms) = \",mut)\n"
   ]
  },
  {
   "cell_type": "code",
   "execution_count": null,
   "metadata": {},
   "outputs": [],
   "source": []
  }
 ],
 "metadata": {
  "kernelspec": {
   "display_name": "Python 3",
   "language": "python",
   "name": "python3"
  },
  "language_info": {
   "codemirror_mode": {
    "name": "ipython",
    "version": 3
   },
   "file_extension": ".py",
   "mimetype": "text/x-python",
   "name": "python",
   "nbconvert_exporter": "python",
   "pygments_lexer": "ipython3",
   "version": "3.7.6"
  }
 },
 "nbformat": 4,
 "nbformat_minor": 4
}
